{
 "cells": [
  {
   "cell_type": "markdown",
   "metadata": {
    "colab_type": "text",
    "id": "ogiVNJ39fAGq"
   },
   "source": [
    "![alt text](https://www.fatporkrinds.com/wp-content/uploads/2023/11/cropped-vecteezy_pig_logo-200x200-1.png)"
   ]
  },
  {
   "cell_type": "markdown",
   "metadata": {
    "colab_type": "text",
    "id": "view-in-github"
   },
   "source": [
    "<a href=\"https://colab.research.google.com/github/FatPorkRindsPlatform/PythonCourse/blob/main/VariablesDataTypes.ipynb\" target=\"_parent\"><img src=\"https://colab.research.google.com/assets/colab-badge.svg\" alt=\"Open In Colab\"/></a>\n",
    "[![Open in GitHub Codespaces](https://github.com/codespaces/badge.svg)](https://codespaces.new/FatPorkRindsPlatform/PythonCourse)\n",
    "[![Binder](https://mybinder.org/badge_logo.svg)](https://mybinder.org/v2/gh/FatPorkRindsPlatform/PythonCourse/main)"
   ]
  },
  {
   "cell_type": "markdown",
   "metadata": {
    "colab_type": "text",
    "id": "wdVrlulte9LB"
   },
   "source": [
    "# Python Variables\n"
   ]
  },
  {
   "cell_type": "markdown",
   "metadata": {
    "colab_type": "text",
    "id": "jX699xHhe9-X"
   },
   "source": [
    "- A Variable is a bucket in memory on your computer. \n",
    "- This bucket is used to hold a value that you want to use later on in your Python application.\n",
    "- That value that you want to put in your bucket is one of Python's supported Data Types."
   ]
  },
  {
   "cell_type": "markdown",
   "metadata": {
    "colab_type": "text",
    "id": "4DplercAg8Sl"
   },
   "source": [
    "# Python Data Types"
   ]
  },
  {
   "cell_type": "markdown",
   "metadata": {
    "colab_type": "text",
    "id": "spt4OLr6g-2z"
   },
   "source": [
    "- In Python, a data type is a classification that specifies which type of value a variable can hold. \n",
    "- Data types define the operations that can be performed on the data, the meaning of the data, \n",
    "- and the way values of that type are stored.\n",
    "- Python also allows users to define their own data types using classes. \n",
    "- This enables the creation of complex data structures and custom objects."
   ]
  },
  {
   "cell_type": "markdown",
   "metadata": {
    "colab_type": "text",
    "id": "Khd51F4GhCC9"
   },
   "source": [
    "\n",
    "## Numeric Types\n",
    "\n",
    "### Integer\n",
    "- **Type:** `int`\n",
    "- **Description:** Represents whole numbers, positive or negative, without decimals.\n",
    "- **Example:** `42`\n",
    "\n",
    "### Floating Point\n",
    "- **Type:** `float`\n",
    "- **Description:** Represents real numbers, positive or negative, with a fractional part.\n",
    "- **Example:** `3.14`\n",
    "\n",
    "### Complex Number\n",
    "- **Type:** `complex`\n",
    "- **Description:** Represents complex numbers with a real and an imaginary part.\n",
    "- **Example:** `3 + 4j`\n",
    "\n",
    "## Sequence Types\n",
    "\n",
    "### String\n",
    "- **Type:** `str`\n",
    "- **Description:** Represents a sequence of characters.\n",
    "- **Example:** `\"Hello, World!\"`\n",
    "\n",
    "### List\n",
    "- **Type:** `list`\n",
    "- **Description:** Represents an ordered, mutable collection of items.\n",
    "- **Example:** `[1, 2, 3, \"a\", \"b\", \"c\"]`\n",
    "\n",
    "### Tuple\n",
    "- **Type:** `tuple`\n",
    "- **Description:** Represents an ordered, immutable collection of items.\n",
    "- **Example:** `(1, 2, 3, \"a\", \"b\", \"c\")`\n",
    "\n",
    "### Range\n",
    "- **Type:** `range`\n",
    "- **Description:** Represents an immutable sequence of numbers, commonly used for looping a specific number of times.\n",
    "- **Example:** `range(0, 10)`\n",
    "\n",
    "## Set Types\n",
    "\n",
    "### Set\n",
    "- **Type:** `set`\n",
    "- **Description:** Represents an unordered collection of unique items.\n",
    "- **Example:** `{1, 2, 3, \"a\", \"b\", \"c\"}`\n",
    "\n",
    "### Frozenset\n",
    "- **Type:** `frozenset`\n",
    "- **Description:** Represents an immutable set.\n",
    "- **Example:** `frozenset([1, 2, 3, \"a\", \"b\", \"c\"])`\n",
    "\n",
    "## Mapping Types\n",
    "\n",
    "### Dictionary\n",
    "- **Type:** `dict`\n",
    "- **Description:** Represents a collection of key-value pairs.\n",
    "- **Example:** `{\"name\": \"Alice\", \"age\": 30, \"city\": \"New York\"}`\n",
    "\n",
    "## Boolean Type\n",
    "\n",
    "### Boolean\n",
    "- **Type:** `bool`\n",
    "- **Description:** Represents one of two values: `True` or `False`.\n",
    "- **Example:** `True`\n",
    "\n",
    "## Binary Types\n",
    "\n",
    "### Bytes\n",
    "- **Type:** `bytes`\n",
    "- **Description:** Represents immutable sequences of bytes.\n",
    "- **Example:** `b\"Hello, World!\"`\n",
    "\n",
    "### Bytearray\n",
    "- **Type:** `bytearray`\n",
    "- **Description:** Represents mutable sequences of bytes.\n",
    "- **Example:** `bytearray(b\"Hello, World!\")`\n",
    "\n",
    "### Memoryview\n",
    "- **Type:** `memoryview`\n",
    "- **Description:** Represents a view of another binary sequence, allowing for efficient slicing and manipulation without copying the original data.\n",
    "- **Example:** `memoryview(b\"Hello, World!\")`\n",
    "\n",
    "## None Type\n",
    "\n",
    "### None\n",
    "- **Type:** `NoneType`\n",
    "- **Description:** Represents the absence of a value or a null value.\n",
    "- **Example:** `None`"
   ]
  },
  {
   "cell_type": "code",
   "execution_count": null,
   "metadata": {},
   "outputs": [],
   "source": [
    "# String \n",
    "greetings = \"Hello, World!\""
   ]
  },
  {
   "cell_type": "code",
   "execution_count": null,
   "metadata": {},
   "outputs": [],
   "source": [
    "# Float\n",
    "PI = 3.14159"
   ]
  },
  {
   "cell_type": "code",
   "execution_count": null,
   "metadata": {},
   "outputs": [],
   "source": [
    "# Integer\n",
    "age = 25"
   ]
  },
  {
   "cell_type": "code",
   "execution_count": null,
   "metadata": {},
   "outputs": [],
   "source": [
    "# List\n",
    "fruits = [\"apple\", \"banana\", \"cherry\"]"
   ]
  },
  {
   "cell_type": "code",
   "execution_count": null,
   "metadata": {},
   "outputs": [],
   "source": [
    "# Dictionary\n",
    "person = {\n",
    "    \"name\": \"John\",\n",
    "    \"age\": 36,\n",
    "    \"country\": \"Norway\"\n",
    "}"
   ]
  },
  {
   "cell_type": "code",
   "execution_count": null,
   "metadata": {},
   "outputs": [],
   "source": [
    "# Tuple\n",
    "colors = (\"red\", \"green\", \"blue\")"
   ]
  },
  {
   "cell_type": "code",
   "execution_count": null,
   "metadata": {},
   "outputs": [],
   "source": [
    "# Set\n",
    "thisset = {\"apple\", \"banana\", \"cherry\"}"
   ]
  }
 ],
 "metadata": {
  "colab": {
   "include_colab_link": true,
   "name": "VariablesDataTypes.ipynb",
   "provenance": []
  },
  "kernelspec": {
   "display_name": "Python [conda env:learning_python] *",
   "language": "python3",
   "name": "python3"
  },
  "language_info": {
   "codemirror_mode": {
    "name": "ipython",
    "version": 3
   },
   "file_extension": ".py",
   "mimetype": "text/x-python",
   "name": "python",
   "nbconvert_exporter": "python",
   "pygments_lexer": "ipython3",
   "version": "3.9.6"
  }
 },
 "nbformat": 4,
 "nbformat_minor": 4
}
