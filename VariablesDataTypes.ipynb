{
 "cells": [
  {
   "cell_type": "markdown",
   "metadata": {
    "colab_type": "text",
    "id": "ogiVNJ39fAGq"
   },
   "source": [
    "![alt text](https://www.fatporkrinds.com/wp-content/uploads/2023/11/cropped-vecteezy_pig_logo-200x200-1.png)"
   ]
  },
  {
   "cell_type": "markdown",
   "metadata": {
    "colab_type": "text",
    "id": "view-in-github"
   },
   "source": [
    "<a href=\"https://colab.research.google.com/github/Tanu-N-Prabhu/Python/blob/master/How_to_get_started_coding_in_Python%3F.ipynb\" target=\"_parent\"><img src=\"https://colab.research.google.com/assets/colab-badge.svg\" alt=\"Open In Colab\"/></a>"
   ]
  },
  {
   "cell_type": "markdown",
   "metadata": {
    "colab_type": "text",
    "id": "wdVrlulte9LB"
   },
   "source": [
    "# Python Variables\n"
   ]
  },
  {
   "cell_type": "markdown",
   "metadata": {
    "colab_type": "text",
    "id": "jX699xHhe9-X"
   },
   "source": [
    "- A Variable is a bucket in memory on your computer. \n",
    "- This bucket is used to hold a value that you want to use later on in your Python application.\n",
    "- That value that you want to put in your bucket is one of Python's supported Data Types."
   ]
  },
  {
   "cell_type": "markdown",
   "metadata": {
    "colab_type": "text",
    "id": "4DplercAg8Sl"
   },
   "source": [
    "# Python Data Types"
   ]
  },
  {
   "cell_type": "markdown",
   "metadata": {
    "colab_type": "text",
    "id": "spt4OLr6g-2z"
   },
   "source": [
    "- A Data Type is one that is supported by the Python Language.\n",
    "- This Data Type is one from the following list.\n",
    "- Each Data Type in the list describes the type of data you want to use for your variable."
   ]
  },
  {
   "cell_type": "markdown",
   "metadata": {
    "colab_type": "text",
    "id": "Khd51F4GhCC9"
   },
   "source": [
    "\n",
    "## Numeric Types\n",
    "\n",
    "### Integer\n",
    "- **Type:** `int`\n",
    "- **Description:** Represents whole numbers, positive or negative, without decimals.\n",
    "- **Example:** `42`\n",
    "\n",
    "### Floating Point\n",
    "- **Type:** `float`\n",
    "- **Description:** Represents real numbers, positive or negative, with a fractional part.\n",
    "- **Example:** `3.14`\n",
    "\n",
    "### Complex Number\n",
    "- **Type:** `complex`\n",
    "- **Description:** Represents complex numbers with a real and an imaginary part.\n",
    "- **Example:** `3 + 4j`\n",
    "\n",
    "## Sequence Types\n",
    "\n",
    "### String\n",
    "- **Type:** `str`\n",
    "- **Description:** Represents a sequence of characters.\n",
    "- **Example:** `\"Hello, World!\"`\n",
    "\n",
    "### List\n",
    "- **Type:** `list`\n",
    "- **Description:** Represents an ordered, mutable collection of items.\n",
    "- **Example:** `[1, 2, 3, \"a\", \"b\", \"c\"]`\n",
    "\n",
    "### Tuple\n",
    "- **Type:** `tuple`\n",
    "- **Description:** Represents an ordered, immutable collection of items.\n",
    "- **Example:** `(1, 2, 3, \"a\", \"b\", \"c\")`\n",
    "\n",
    "### Range\n",
    "- **Type:** `range`\n",
    "- **Description:** Represents an immutable sequence of numbers, commonly used for looping a specific number of times.\n",
    "- **Example:** `range(0, 10)`\n",
    "\n",
    "## Set Types\n",
    "\n",
    "### Set\n",
    "- **Type:** `set`\n",
    "- **Description:** Represents an unordered collection of unique items.\n",
    "- **Example:** `{1, 2, 3, \"a\", \"b\", \"c\"}`\n",
    "\n",
    "### Frozenset\n",
    "- **Type:** `frozenset`\n",
    "- **Description:** Represents an immutable set.\n",
    "- **Example:** `frozenset([1, 2, 3, \"a\", \"b\", \"c\"])`\n",
    "\n",
    "## Mapping Types\n",
    "\n",
    "### Dictionary\n",
    "- **Type:** `dict`\n",
    "- **Description:** Represents a collection of key-value pairs.\n",
    "- **Example:** `{\"name\": \"Alice\", \"age\": 30, \"city\": \"New York\"}`\n",
    "\n",
    "## Boolean Type\n",
    "\n",
    "### Boolean\n",
    "- **Type:** `bool`\n",
    "- **Description:** Represents one of two values: `True` or `False`.\n",
    "- **Example:** `True`\n",
    "\n",
    "## Binary Types\n",
    "\n",
    "### Bytes\n",
    "- **Type:** `bytes`\n",
    "- **Description:** Represents immutable sequences of bytes.\n",
    "- **Example:** `b\"Hello, World!\"`\n",
    "\n",
    "### Bytearray\n",
    "- **Type:** `bytearray`\n",
    "- **Description:** Represents mutable sequences of bytes.\n",
    "- **Example:** `bytearray(b\"Hello, World!\")`\n",
    "\n",
    "### Memoryview\n",
    "- **Type:** `memoryview`\n",
    "- **Description:** Represents a view of another binary sequence, allowing for efficient slicing and manipulation without copying the original data.\n",
    "- **Example:** `memoryview(b\"Hello, World!\")`\n",
    "\n",
    "## None Type\n",
    "\n",
    "### None\n",
    "- **Type:** `NoneType`\n",
    "- **Description:** Represents the absence of a value or a null value.\n",
    "- **Example:** `None`"
   ]
  }
 ],
 "metadata": {
  "colab": {
   "include_colab_link": true,
   "name": "VariablesDataTypes.ipynb",
   "provenance": []
  },
  "kernelspec": {
   "display_name": "Python [conda env:learning_python] *",
   "language": "python",
   "name": "conda-env-learning_python-py"
  },
  "language_info": {
   "codemirror_mode": {
    "name": "ipython",
    "version": 3
   },
   "file_extension": ".py",
   "mimetype": "text/x-python",
   "name": "python",
   "nbconvert_exporter": "python",
   "pygments_lexer": "ipython3",
   "version": "3.9.6"
  }
 },
 "nbformat": 4,
 "nbformat_minor": 4
}
